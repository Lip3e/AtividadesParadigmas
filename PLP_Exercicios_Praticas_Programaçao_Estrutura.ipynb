{
  "nbformat": 4,
  "nbformat_minor": 0,
  "metadata": {
    "colab": {
      "provenance": [],
      "authorship_tag": "ABX9TyMNtecUL7nebdB5KvCbthgN",
      "include_colab_link": true
    },
    "kernelspec": {
      "name": "python3",
      "display_name": "Python 3"
    },
    "language_info": {
      "name": "python"
    }
  },
  "cells": [
    {
      "cell_type": "markdown",
      "metadata": {
        "id": "view-in-github",
        "colab_type": "text"
      },
      "source": [
        "<a href=\"https://colab.research.google.com/github/Lip3e/AtividadesParadigmas/blob/main/PLP_Exercicios_Praticas_Programa%C3%A7ao_Estrutura.ipynb\" target=\"_parent\"><img src=\"https://colab.research.google.com/assets/colab-badge.svg\" alt=\"Open In Colab\"/></a>"
      ]
    },
    {
      "cell_type": "code",
      "execution_count": null,
      "metadata": {
        "id": "c3DPtwo4aygB"
      },
      "outputs": [],
      "source": [
        "# Programa 01 - Linguagem Python\n",
        "# Autor: João Filipe Pereira Freitas - Data: 18/08/2023 - Linguagem: Python\n"
      ]
    },
    {
      "cell_type": "markdown",
      "source": [
        "Descrição Narrativa: Faça um programa que leia duas notas e calcule sua média, levando em consideração que para ser aprovado o aluno tem que ter média >=7.  "
      ],
      "metadata": {
        "id": "C4SwWymrbne8"
      }
    },
    {
      "cell_type": "code",
      "source": [
        "from typing_extensions import reveal_type\n",
        "\n",
        "# Leitura dos Dados de Entrada\n",
        "Nota1 = (float(input(\"Informe o valor da primeira nota \")))\n",
        "Nota2 = (float(input(\"Informe o valor da segunda nota \")))\n",
        "\n",
        "#Calcular a média das Notas.\n",
        "med = (Nota1 + Nota2)/2\n",
        "\n",
        "#Estrutura de decisão com IF para verificar se o aluno foi Aprovado ou Reprovado\n",
        "if (med >=7):\n",
        "  rep = \"Aprovado\"\n",
        "else:\n",
        "  rep = \"Reprovado\"\n",
        "\n",
        "#Escreva os resultados Obtidos.\n",
        "print(\"O valor da média é:\", med)\n",
        "print(\"O conceito do aluno foi:\", rep)\n"
      ],
      "metadata": {
        "colab": {
          "base_uri": "https://localhost:8080/"
        },
        "id": "35AXULsjcT8b",
        "outputId": "95a1fc1a-b69b-47cb-d20f-bbdd6aec2393"
      },
      "execution_count": null,
      "outputs": [
        {
          "output_type": "stream",
          "name": "stdout",
          "text": [
            "Informe o valor da primeira nota 6\n",
            "Informe o valor da segunda nota 9\n",
            "O valor da média é: 7.5\n",
            "O conceito do aluno foi: Aprovado\n"
          ]
        }
      ]
    },
    {
      "cell_type": "code",
      "source": [
        "##Modularizando o Programa em Questão>"
      ],
      "metadata": {
        "id": "Xw4F38u6jIDb"
      },
      "execution_count": null,
      "outputs": []
    },
    {
      "cell_type": "code",
      "source": [
        "#Criando o método para calcular a média.\n",
        "def calmedia(n1,n2):\n",
        "  return (n1 + n2)/2"
      ],
      "metadata": {
        "id": "iJrUYa_5jmLC"
      },
      "execution_count": null,
      "outputs": []
    },
    {
      "cell_type": "code",
      "source": [
        "# Verificar a situação do aluno.\n",
        "def verificarsituacao(media):\n",
        "  if (media >= 7):\n",
        "    return \"Aprovado\"\n",
        "  else:\n",
        "    return \"Reprovado\"\n"
      ],
      "metadata": {
        "id": "f97yzIuUj2lJ"
      },
      "execution_count": null,
      "outputs": []
    },
    {
      "cell_type": "code",
      "source": [
        "from typing_extensions import reveal_type\n",
        "\n",
        "# Leitura dos Dados de Entrada\n",
        "Nota1 = (float(input(\"Informe o valor da primeira nota \")))\n",
        "Nota2 = (float(input(\"Informe o valor da segunda nota \")))\n",
        "\n",
        "#Calcular a média das Notas.\n",
        "med = calmedia(Nota1, Nota2)\n",
        "#Estrutura de decisão com IF para verificar se o aluno foi Aprovado ou Reprovado\n",
        "resp = verificarsituacao(med)\n",
        "\n",
        "#Escreva os resultados Obtidos.\n",
        "print(\"O valor da média é:\", med)\n",
        "print(\"O conceito do aluno foi:\", resp)\n"
      ],
      "metadata": {
        "colab": {
          "base_uri": "https://localhost:8080/"
        },
        "id": "L9jKjOQlk_6N",
        "outputId": "31616d05-6307-42fe-8121-032f5286140b"
      },
      "execution_count": null,
      "outputs": [
        {
          "output_type": "stream",
          "name": "stdout",
          "text": [
            "Informe o valor da primeira nota 8\n",
            "Informe o valor da segunda nota 7\n",
            "O valor da média é: 7.5\n",
            "O conceito do aluno foi: Aprovado\n"
          ]
        }
      ]
    },
    {
      "cell_type": "code",
      "source": [
        "# Faça um programa que solicite o preço de uma mercadoria e o porcentual de desconto. Exiba o valor do desconto e o preço a pagar."
      ],
      "metadata": {
        "id": "__5CJoOOo-1c"
      },
      "execution_count": null,
      "outputs": []
    },
    {
      "cell_type": "code",
      "source": [
        "#Criando o método para calculr desconto no Produto\n",
        "from typing_extensions import reveal_type\n",
        "\n",
        "# Leitura dos Dados de Entrada\n",
        "preço = (float(input(\"Informe o valor do produto \")))\n",
        "desconto = (float(input(\"Desconto o valor do desconto \")))\n",
        "\n",
        "valordesconto = preço * desconto / 100\n",
        "a_pagar = preço - valordesconto\n",
        "print(\"Um desconto de %5.2f %% em uma mercadoria de R$ %7.2f\" %(desconto, preço))\n",
        "print(\"vale R$ %7.2f.\" %valordesconto)\n",
        "print(\"O valor a pagar é de R$ %7.2f\" % a_pagar)\n",
        "\n",
        "\n"
      ],
      "metadata": {
        "colab": {
          "base_uri": "https://localhost:8080/"
        },
        "id": "_48NBP5EpN60",
        "outputId": "6bbce07d-f826-48f2-8438-590aa593ff51"
      },
      "execution_count": null,
      "outputs": [
        {
          "output_type": "stream",
          "name": "stdout",
          "text": [
            "Informe o valor do produto 100\n",
            "Desconto o valor do desconto 10\n",
            "Um desconto de 10.00 % em uma mercadoria de R$  100.00\n",
            "vale R$   10.00.\n",
            "O valor a pagar é de R$   90.00\n"
          ]
        }
      ]
    },
    {
      "cell_type": "code",
      "source": [
        "#Escreva um programa para calcular a redução do tempo de vida de um fumante.\n",
        "#Pergunte a quantidade de cigarros fumados por dia e quantos anos ele já fumou.\n",
        "#Cosidere que um fumante perde 10min de vida a cada cigarro, e calcule quantos de vida um fumant perdera. Exiba o total em dias.\n"
      ],
      "metadata": {
        "id": "4wC4CSlJspEU"
      },
      "execution_count": null,
      "outputs": []
    },
    {
      "cell_type": "code",
      "source": [
        "#calcular tempo de vida\n",
        "def calcular_reducao_tempo_de_vida(cigarros_por_dia, anos_fumando, minutos_por_cigarro=10):\n",
        "    minutos_por_dia = 24 * 60\n",
        "    dias_por_ano = 365\n",
        "\n",
        "    reducao_em_minutos = cigarros_por_dia * anos_fumando * minutos_por_cigarro\n",
        "    reducao_em_dias = reducao_em_minutos / minutos_por_dia\n",
        "\n",
        "    return reducao_em_dias"
      ],
      "metadata": {
        "id": "9NRIozq2iTIY"
      },
      "execution_count": null,
      "outputs": []
    },
    {
      "cell_type": "code",
      "source": [
        "cigarros_por_dia = int(input(\"Quantidade de cigarros por dia: \"))\n",
        "anos_fumando = float(input(\"Quantidade de anos fumando: \"))\n",
        "\n",
        "# Cada cigarro reduz 10 minutos de vida\n",
        "minutos_por_cigarro = 10\n",
        "dias_por_ano = 365\n",
        "minutos_por_dia = 24 * 60\n",
        "\n",
        "redução_em_dias = (cigarros_por_dia * anos_fumando * minutos_por_cigarro) / minutos_por_dia\n",
        "\n",
        "print(\"Redução do tempo de vida: %.2f dias.\" % redução_em_dias)\n",
        "redução_anos = redução_em_dias / dias_por_ano\n",
        "print(\"Redução em anos: %.2f anos\" % redução_anos)\n"
      ],
      "metadata": {
        "colab": {
          "base_uri": "https://localhost:8080/"
        },
        "id": "j894NyS7gh6t",
        "outputId": "4a9f250b-f542-44e1-948b-718668e5c8dc"
      },
      "execution_count": null,
      "outputs": [
        {
          "output_type": "stream",
          "name": "stdout",
          "text": [
            "Quantidade de cigarros por dia: 2\n",
            "Quantidade de anos fumando: 25\n",
            "Redução do tempo de vida: 0.35 dias.\n",
            "Redução em anos: 0.00 anos\n"
          ]
        }
      ]
    },
    {
      "cell_type": "code",
      "source": [
        "#Escreva um programa que pergunte o sálario do funcionario e calculeo valor do aumento.\n",
        "#Para sálarios superiores a R$ 1250, calcule um aumento de 10%. Para os inferiores ou iguais, de 15%."
      ],
      "metadata": {
        "id": "1Te4IEpnigIf"
      },
      "execution_count": null,
      "outputs": []
    },
    {
      "cell_type": "code",
      "source": [
        "salario = float(input(\"Qual seu sálario: \"))\n",
        "pc_aumento = 0.15\n",
        "if salario > 1250:\n",
        "  pc_aumento = 0.10\n",
        "aumento = salario * pc_aumento\n",
        "print(f\"Seu aumento será de: R$ {aumento:7.2f}\")\n",
        "print(f\"o porcentual de aumento foi: {pc_aumento: 7.2f}\")"
      ],
      "metadata": {
        "colab": {
          "base_uri": "https://localhost:8080/"
        },
        "id": "3z8h44gqi_In",
        "outputId": "38834738-0560-4f21-aa04-96c96b0dd5a2"
      },
      "execution_count": null,
      "outputs": [
        {
          "output_type": "stream",
          "name": "stdout",
          "text": [
            "Qual seu sálario: 1500\n",
            "Seu aumento será de: R$  150.00\n",
            "o porcentual de aumento foi:    0.10\n"
          ]
        }
      ]
    },
    {
      "cell_type": "code",
      "source": [
        "#aumento salário\n",
        "def calcular_aumento(pc_aumento = 0.15, salario, aumento):\n",
        "  aumento = salario * pc_aumento\n",
        "\n",
        "\n"
      ],
      "metadata": {
        "id": "A0o9mRjckuWV"
      },
      "execution_count": null,
      "outputs": []
    },
    {
      "cell_type": "code",
      "source": [
        "#Faça Um programa em Phyton que receba 6 numeros interiros e mostre:\n",
        "# Os numeros pares digitados;\n",
        "# A soma dos numeros pares digitados;\n",
        "# Os numeros impares digitados;\n",
        "# A quantidade de nuemros impares;"
      ],
      "metadata": {
        "id": "Pfk9N9WsmkEl"
      },
      "execution_count": null,
      "outputs": []
    },
    {
      "cell_type": "code",
      "source": [
        "def main():\n",
        "  numeros = []\n",
        "  numeros_pares = []\n",
        "  numeros_impares =[]\n",
        "  soma_pares = 0\n",
        "  # Leitura dos elementos do vetor são 06 Números...\n",
        "  for i in range(6):\n",
        "    numeros.append(int(input(\"Digite um número: \")))\n",
        "  #append = inserir dados de um vetor\n",
        "\n",
        "  #Identificando números pares e impares e adicionando aos respectivos vetores.\n",
        "  for numero in numeros:\n",
        "    if numero % 2 == 0:\n",
        "      numeros_pares.append(numero)\n",
        "      soma_pares += numero\n",
        "    else:\n",
        "      numeros_impares.append(numero)\n",
        "\n",
        "    print(\"Os números pares digitados foram: \")\n",
        "    for numero in numeros_pares:\n",
        "        print(numero)\n",
        "    print(\"A soma dos números pares digitados é: \", soma_pares)\n",
        "    print(\"Os números impares digitados foram: \")\n",
        "    for numero in numeros_impares:\n",
        "      print(numero)\n",
        "    print(\"A quantidade de números ímpares digitados é: \", len(numeros_impares))\n",
        "    print(\"O valor máximo é: \", max(numeros))\n",
        "    print(\"O valor minimo é: \", min(numeros))\n",
        "  if __name__ == \"__main__\":\n",
        "    main()\n",
        "\n",
        "\n"
      ],
      "metadata": {
        "id": "ZjFQWdxPm7zM"
      },
      "execution_count": null,
      "outputs": []
    },
    {
      "cell_type": "code",
      "source": [
        "#Faça um programa em Phyton para gerar automaticamente\n",
        "#numeros entre 0 a 99 de uma cartela de bingo.\n",
        "#Sabendo que cada cartela devera conter 5 linhas de 5 numeros, gere estes dados de modo a nao ter numeros repetidos dentro das cartelas.\n",
        "#O programa deve exibir na tela a cartela gerada."
      ],
      "metadata": {
        "id": "BdC8i0SFspBe"
      },
      "execution_count": null,
      "outputs": []
    },
    {
      "cell_type": "code",
      "source": [
        "import random\n",
        "\n",
        "def gerar_cartela():\n",
        "  numeros = set()\n",
        "  cartela = []\n",
        "  for i in range(5):\n",
        "    #Randint = Gerar numeros aleatorios\n",
        "    numero = random.randint(0, 99)\n",
        "    while numero in numeros:\n",
        "      numero = random.randint(0, 99)\n",
        "    numeros.add(numero)\n",
        "    cartela.append(numero)\n",
        "  return cartela\n",
        "\n",
        "def main():\n",
        "    cartela = gerar_cartela()\n",
        "    print(\"Cartela de bingo: \")\n",
        "    for linha in cartela:\n",
        "        print(linha)\n",
        "\n",
        "if __name__ == \"__main__\":\n",
        "    main()\n"
      ],
      "metadata": {
        "id": "zRABIkd3tIKN"
      },
      "execution_count": null,
      "outputs": []
    },
    {
      "cell_type": "code",
      "source": [
        "import random\n",
        "\n",
        "def gerar_cartela():\n",
        "    cartela = []\n",
        "\n",
        "    while len(cartela) < 25:\n",
        "        numero = random.randint(0, 99)\n",
        "        if numero not in cartela:\n",
        "            cartela.append(numero)\n",
        "\n",
        "    return cartela\n",
        "\n",
        "def exibir_cartela(cartela):\n",
        "    for i in range(5):\n",
        "        for j in range(5):\n",
        "            index = i * 5 + j\n",
        "            print(f'{cartela[index]:2}', end='  ')\n",
        "        print()\n",
        "\n",
        "def main():\n",
        "    num_cartelas = int(input(\"Quantas cartelas você deseja gerar? \"))\n",
        "\n",
        "    for i in range(num_cartelas):\n",
        "        cartela = gerar_cartela()\n",
        "        print(f'\\nCartela {i + 1}:\\n')\n",
        "        exibir_cartela(cartela)\n",
        "\n",
        "if __name__ == \"__main__\":\n",
        "    main()"
      ],
      "metadata": {
        "id": "RisyX2SOxqdE"
      },
      "execution_count": null,
      "outputs": []
    },
    {
      "cell_type": "code",
      "source": [
        "# Crie um dicionario que é uma agenda e coloque nele os seguintes dados: chave (cpf), nome, idaden telefone.\n",
        "# O programa deve er um número indeterminado de dados, criar a agenda e imprimir todos os iten do dicionario\n",
        "# no formato de chave: nome, idade, fone.\n"
      ],
      "metadata": {
        "id": "Am_ySCG7yJrF"
      },
      "execution_count": null,
      "outputs": []
    },
    {
      "cell_type": "code",
      "source": [
        "def main():\n",
        "    # Cria um dicionario vazio\n",
        "    agenda = {}\n",
        "\n",
        "    #lê os dados da agenda\n",
        "    while True:\n",
        "        cpf = input(\"Digite o CPF: \")\n",
        "        nome = input(\"Digite seu nome: \")\n",
        "        idade = input(\"Digite a idade: \")\n",
        "        telefone = input(\"Digite seu telefone: \")\n",
        "\n",
        "        #Adiciona os dados ao dicinario\n",
        "        agenda[cpf] = {\n",
        "            \"nome\": nome,\n",
        "            \"idade\": idade,\n",
        "            \"telefone\": telefone,\n",
        "    }\n",
        "\n",
        "    # Pergunta se o usuario deseja continuar\n",
        "        continuar = input(\"Deseja continuar? (s/n): \")\n",
        "        if continuar != \"s\":\n",
        "          break\n",
        "\n",
        "    #Imprime os itens do dicionario\n",
        "    for cpf, contato in agenda.items():\n",
        "      print(cpf, contato[\"nome\"], contato[\"idade\"], contato[\"telefone\"])\n",
        "\n",
        "if __name__ == \"__name__\":\n",
        "    main()\n",
        "\n"
      ],
      "metadata": {
        "id": "0LYLy-F-ymg5"
      },
      "execution_count": null,
      "outputs": []
    },
    {
      "cell_type": "code",
      "source": [],
      "metadata": {
        "id": "HIImZU6N2KeS"
      },
      "execution_count": null,
      "outputs": []
    }
  ]
}